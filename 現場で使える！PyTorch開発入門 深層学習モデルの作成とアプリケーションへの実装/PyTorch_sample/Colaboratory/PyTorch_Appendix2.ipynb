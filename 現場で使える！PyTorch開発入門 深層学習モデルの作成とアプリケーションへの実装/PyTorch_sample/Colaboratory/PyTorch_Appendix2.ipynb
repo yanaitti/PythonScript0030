{
  "nbformat": 4,
  "nbformat_minor": 0,
  "metadata": {
    "colab": {
      "name": "PyTorch_Appendix2.ipynb",
      "version": "0.3.2",
      "provenance": [],
      "collapsed_sections": []
    },
    "kernelspec": {
      "display_name": "Python 3",
      "language": "python",
      "name": "python3"
    }
  },
  "cells": [
    {
      "metadata": {
        "id": "fBEi0zPMi-DX",
        "colab_type": "text"
      },
      "cell_type": "markdown",
      "source": [
        "Appendix 2　ColaboratoryでPyTorchの開発環境を構築する"
      ]
    },
    {
      "metadata": {
        "id": "rvwGhRCRjG4X",
        "colab_type": "text"
      },
      "cell_type": "markdown",
      "source": [
        "リストA2.1　PyTorchの インストール"
      ]
    },
    {
      "metadata": {
        "id": "E4oD6UPpjB33",
        "colab_type": "code",
        "colab": {}
      },
      "cell_type": "code",
      "source": [
        "!pip3 install http://download.pytorch.org/whl/cu80/torch-0.4.0-cp36-cp36m-linux_x86_64.whl\n",
        "!pip3 install torchvision\n",
        "!pip3 install tqdm"
      ],
      "execution_count": 0,
      "outputs": []
    },
    {
      "metadata": {
        "id": "K53_4c5cjOS4",
        "colab_type": "text"
      },
      "cell_type": "markdown",
      "source": [
        "リストA2.2　インストールが成功したかを確認"
      ]
    },
    {
      "metadata": {
        "id": "XEpBfGFTjNg_",
        "colab_type": "code",
        "colab": {}
      },
      "cell_type": "code",
      "source": [
        "import torch\n",
        "torch.tensor([1,2,3]).to(\"cuda:0\")"
      ],
      "execution_count": 0,
      "outputs": []
    },
    {
      "metadata": {
        "id": "j81Aq9K0jSDP",
        "colab_type": "text"
      },
      "cell_type": "markdown",
      "source": [
        "リストA2.3　顔のデータの取得（wget）と展開（mv）"
      ]
    },
    {
      "metadata": {
        "id": "Hk4CGN7OjQE3",
        "colab_type": "code",
        "colab": {}
      },
      "cell_type": "code",
      "source": [
        "!wget http://vis-www.cs.umass.edu/lfw/lfw-deepfunneled.tgz\n",
        "!tar xf lfw-deepfunneled.tgz\n",
        "!mkdir lfw-deepfunneled/train\n",
        "!mkdir lfw-deepfunneled/test\n",
        "!mv lfw-deepfunneled/[A-W]* lfw-deepfunneled/train\n",
        "!mv lfw-deepfunneled/[X-Z]* lfw-deepfunneled/test"
      ],
      "execution_count": 0,
      "outputs": []
    },
    {
      "metadata": {
        "id": "N3StiYKljZSo",
        "colab_type": "text"
      },
      "cell_type": "markdown",
      "source": [
        "リストA2.4　ファイルのアップロード"
      ]
    },
    {
      "metadata": {
        "id": "0BsJecovjW8o",
        "colab_type": "code",
        "colab": {}
      },
      "cell_type": "code",
      "source": [
        "from google.colab import files\n",
        "# ダイアログが表示され、ローカルのファイルを選択してアップロード\n",
        "uploaded = files.upload()"
      ],
      "execution_count": 0,
      "outputs": []
    },
    {
      "metadata": {
        "id": "KEGHa_GBjcyY",
        "colab_type": "text"
      },
      "cell_type": "markdown",
      "source": [
        "リストA2.5　ファイルのダウンロード"
      ]
    },
    {
      "metadata": {
        "id": "5FCwAfZfjbtR",
        "colab_type": "code",
        "colab": {}
      },
      "cell_type": "code",
      "source": [
        "# result.txtをダウンロード\n",
        "files.download(\"result.txt\")"
      ],
      "execution_count": 0,
      "outputs": []
    }
  ]
}