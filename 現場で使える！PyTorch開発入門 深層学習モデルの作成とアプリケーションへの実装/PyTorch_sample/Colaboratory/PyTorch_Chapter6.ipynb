{
  "nbformat": 4,
  "nbformat_minor": 0,
  "metadata": {
    "colab": {
      "name": "PyTorch_Chapter6.ipynb",
      "version": "0.3.2",
      "provenance": [],
      "collapsed_sections": []
    },
    "kernelspec": {
      "name": "python3",
      "display_name": "Python 3"
    },
    "accelerator": "GPU"
  },
  "cells": [
    {
      "metadata": {
        "id": "gwGLZIyyEZwL",
        "colab_type": "text"
      },
      "cell_type": "markdown",
      "source": [
        "Chapter6　推薦システムと行列分解"
      ]
    },
    {
      "metadata": {
        "id": "UYa5TlX0_cJ5",
        "colab_type": "code",
        "colab": {}
      },
      "cell_type": "code",
      "source": [
        "!pip3 install http://download.pytorch.org/whl/cu80/torch-0.4.0-cp36-cp36m-linux_x86_64.whl\n",
        "!pip3 install torchvision\n",
        "!pip3 install tqdm"
      ],
      "execution_count": 0,
      "outputs": []
    },
    {
      "metadata": {
        "id": "wZ3RhDdVBXZz",
        "colab_type": "code",
        "colab": {}
      },
      "cell_type": "code",
      "source": [
        "import torch\n",
        "torch.tensor([1,2,3]).to(\"cuda:0\")"
      ],
      "execution_count": 0,
      "outputs": []
    },
    {
      "metadata": {
        "id": "9_o1wfD5EO4S",
        "colab_type": "text"
      },
      "cell_type": "markdown",
      "source": [
        "Colaboratory における圧縮ファイルの展開"
      ]
    },
    {
      "metadata": {
        "id": "w3PGyAHo_mxd",
        "colab_type": "code",
        "colab": {}
      },
      "cell_type": "code",
      "source": [
        "!wget http://files.grouplens.org/datasets/movielens/ml-20m.zip\n",
        "!unzip ml-20m.zip"
      ],
      "execution_count": 0,
      "outputs": []
    },
    {
      "metadata": {
        "id": "547TM8xaY2nR",
        "colab_type": "code",
        "colab": {}
      },
      "cell_type": "code",
      "source": [
        "!ls"
      ],
      "execution_count": 0,
      "outputs": []
    },
    {
      "metadata": {
        "id": "_tX06UGWZEQx",
        "colab_type": "code",
        "colab": {}
      },
      "cell_type": "code",
      "source": [
        "!ls ml-20m"
      ],
      "execution_count": 0,
      "outputs": []
    },
    {
      "metadata": {
        "id": "lnxRueRUOwuF",
        "colab_type": "text"
      },
      "cell_type": "markdown",
      "source": [
        "リスト6.1　DatasetとDataLoaderの作成（解凍したraiting.csvのパスを変更している）"
      ]
    },
    {
      "metadata": {
        "id": "d0Yxb_EPYMy5",
        "colab_type": "code",
        "colab": {}
      },
      "cell_type": "code",
      "source": [
        "import torch\n",
        "from torch import nn, optim\n",
        "from torch.utils.data import (Dataset, \n",
        "                              DataLoader,\n",
        "                              TensorDataset)\n",
        "import tqdm"
      ],
      "execution_count": 0,
      "outputs": []
    },
    {
      "metadata": {
        "id": "La1IV1KaYxax",
        "colab_type": "code",
        "colab": {}
      },
      "cell_type": "code",
      "source": [
        "import pandas as pd\n",
        "# 訓練データとテストデータを分けるのに使用する\n",
        "from sklearn import model_selection\n",
        "df = pd.read_csv(\"ml-20m/ratings.csv\")\n",
        "# Xは(userId, movieId)のペア\n",
        "X = df[[\"userId\", \"movieId\"]].values\n",
        "Y = df[[\"rating\"]].values\n",
        "# 訓練データとテストデータを9:1に分割\n",
        "train_X, test_X, train_Y, test_Y\\\n",
        "    = model_selection.train_test_split(X, Y, test_size=0.1)\n",
        "# XはIDで整数なのでint64, Yは実数値なのでfloat32のTensorに変換する\n",
        "train_dataset = TensorDataset(\n",
        "    torch.tensor(train_X, dtype=torch.int64), torch.tensor(train_Y, dtype=torch.float32))\n",
        "test_dataset = TensorDataset(\n",
        "    torch.tensor(test_X, dtype=torch.int64), torch.tensor(test_Y, dtype=torch.float32))\n",
        "train_loader = DataLoader(\n",
        "    train_dataset, batch_size=1024, num_workers=4, shuffle=True)\n",
        "test_loader = DataLoader(\n",
        "    test_dataset, batch_size=1024, num_workers=4)"
      ],
      "execution_count": 0,
      "outputs": []
    },
    {
      "metadata": {
        "id": "dbRx2ormPJY2",
        "colab_type": "text"
      },
      "cell_type": "markdown",
      "source": [
        "リスト6.2　行列因子分解"
      ]
    },
    {
      "metadata": {
        "id": "PZIvEKVOAYE7",
        "colab_type": "code",
        "colab": {}
      },
      "cell_type": "code",
      "source": [
        "class MatrixFactorization(nn.Module):\n",
        "    def __init__(self, max_user, max_item, k=20):\n",
        "        super().__init__()\n",
        "        self.max_user = max_user\n",
        "        self.max_item = max_item\n",
        "        self.user_emb = nn.Embedding(max_user, k, 0)\n",
        "        self.item_emb = nn.Embedding(max_item, k, 0)\n",
        "\n",
        "    def forward(self, x):\n",
        "        user_idx = x[:, 0]\n",
        "        item_idx = x[:, 1]\n",
        "        user_feature = self.user_emb(user_idx)\n",
        "        item_feature = self.item_emb(item_idx)\n",
        "\n",
        "        # user_feature*item_featureは(batch_size,k)次元なので\n",
        "        # kについてsumをとるとそれぞれのサンプルの内積になる\n",
        "        out = torch.sum(user_feature * item_feature, 1)\n",
        "\n",
        "        # [0, 5]の範囲に収まるように変換\n",
        "        out = nn.functional.sigmoid(out) * 5\n",
        "        return out"
      ],
      "execution_count": 0,
      "outputs": []
    },
    {
      "metadata": {
        "id": "QuROr5XpPUgU",
        "colab_type": "text"
      },
      "cell_type": "markdown",
      "source": [
        "リスト6.3　ユーザーや商品の個数"
      ]
    },
    {
      "metadata": {
        "id": "aboH-f5DAqbg",
        "colab_type": "code",
        "colab": {}
      },
      "cell_type": "code",
      "source": [
        "max_user, max_item = X.max(0)\n",
        "# np.int64型をPythonの標準のintにキャスト\n",
        "max_user = int(max_user)\n",
        "max_item = int(max_item)\n",
        "net = MatrixFactorization(max_user+1, max_item+1)"
      ],
      "execution_count": 0,
      "outputs": []
    },
    {
      "metadata": {
        "id": "eGTbAEs3PcxD",
        "colab_type": "text"
      },
      "cell_type": "markdown",
      "source": [
        "リスト6.4　評価関数の作成"
      ]
    },
    {
      "metadata": {
        "id": "Cd3dw5-vCEn8",
        "colab_type": "code",
        "colab": {}
      },
      "cell_type": "code",
      "source": [
        "def eval_net(net, loader, score_fn=nn.functional.l1_loss, device=\"cpu\"):\n",
        "    ys = []\n",
        "    ypreds = []\n",
        "    for x, y in loader:\n",
        "        x = x.to(device)\n",
        "        ys.append(y)\n",
        "        with torch.no_grad():\n",
        "        \typred = net(x).to(\"cpu\").view(-1)\n",
        "        ypreds.append(ypred)\n",
        "    score = score_fn(torch.cat(ys).squeeze(), torch.cat(ypreds))\n",
        "    return score.item()"
      ],
      "execution_count": 0,
      "outputs": []
    },
    {
      "metadata": {
        "id": "4yR4OLctPsgQ",
        "colab_type": "text"
      },
      "cell_type": "markdown",
      "source": [
        "リスト6.5　訓練部分の作成"
      ]
    },
    {
      "metadata": {
        "id": "HMc4tkcwCxDN",
        "colab_type": "code",
        "colab": {}
      },
      "cell_type": "code",
      "source": [
        "from statistics import mean\n",
        "\n",
        "net.to(\"cuda:0\")\n",
        "opt = optim.Adam(net.parameters(), lr=0.01)\n",
        "loss_f = nn.MSELoss()\n",
        "\n",
        "for epoch in range(5):\n",
        "    loss_log = []\n",
        "    for x, y in tqdm.tqdm(train_loader):\n",
        "        x = x.to(\"cuda:0\")\n",
        "        y = y.to(\"cuda:0\")\n",
        "        o = net(x)\n",
        "        loss = loss_f(o, y.view(-1))\n",
        "        net.zero_grad()\n",
        "        loss.backward()\n",
        "        opt.step()\n",
        "        loss_log.append(loss.item())\n",
        "    test_score = eval_net(net, test_loader, device=\"cuda:0\")\n",
        "    print(epoch, mean(loss_log), test_score, flush=True)"
      ],
      "execution_count": 0,
      "outputs": []
    },
    {
      "metadata": {
        "id": "aX89Gda0P4e8",
        "colab_type": "text"
      },
      "cell_type": "markdown",
      "source": [
        "リスト6.6　ユーザー1の映画10に対する評価を実際に予測する場合"
      ]
    },
    {
      "metadata": {
        "id": "LoX14cqrDEV2",
        "colab_type": "code",
        "colab": {}
      },
      "cell_type": "code",
      "source": [
        "# 訓練したモデルをCPUに移す\n",
        "net.to(\"cpu\")\n",
        "\n",
        "# ユーザー1の映画10の評価を計算したい\n",
        "query = (1, 10)\n",
        "\n",
        "# int64のTensorに変換し、batchの次元を付加\n",
        "query = torch.tensor(query, dtype=torch.int64).view(1, -1)\n",
        "\n",
        "# netに渡す\n",
        "net(query)"
      ],
      "execution_count": 0,
      "outputs": []
    },
    {
      "metadata": {
        "id": "CaZNgXUyQAh9",
        "colab_type": "text"
      },
      "cell_type": "markdown",
      "source": [
        "リスト6.7　ユーザー1の上位5 本の映画をピックアップ"
      ]
    },
    {
      "metadata": {
        "id": "o9h5o-owDdF_",
        "colab_type": "code",
        "colab": {}
      },
      "cell_type": "code",
      "source": [
        "query = torch.stack([\n",
        "    torch.zeros(max_item).fill_(1),\n",
        "    torch.arange(1, max_item+1)\n",
        "], 1).long()\n",
        "\n",
        "# scoresは上位k本のスコア\n",
        "# indicesは上位k本の位置、すなわちmovieId\n",
        "scores, indices = torch.topk(net(query), 5)"
      ],
      "execution_count": 0,
      "outputs": []
    },
    {
      "metadata": {
        "id": "J7E6APagQLw7",
        "colab_type": "text"
      },
      "cell_type": "markdown",
      "source": [
        "リスト6.8　非線形の関数を使用してモデリングする"
      ]
    },
    {
      "metadata": {
        "id": "umjhsDLvD3Ju",
        "colab_type": "code",
        "colab": {}
      },
      "cell_type": "code",
      "source": [
        "class NeuralMatrixFactorization(nn.Module):\n",
        "    def __init__(self, max_user, max_item,\n",
        "                 user_k=10, item_k=10,\n",
        "                 hidden_dim=50):\n",
        "        super().__init__()\n",
        "        self.user_emb = nn.Embedding(max_user, user_k, 0)\n",
        "        self.item_emb = nn.Embedding(max_item, item_k, 0)\n",
        "        self.mlp = nn.Sequential(\n",
        "            nn.Linear(user_k + item_k, hidden_dim),\n",
        "            nn.ReLU(),\n",
        "            nn.BatchNorm1d(hidden_dim),\n",
        "            nn.Linear(hidden_dim, hidden_dim),\n",
        "            nn.ReLU(),\n",
        "            nn.BatchNorm1d(hidden_dim),\n",
        "            nn.Linear(hidden_dim, 1)\n",
        "        )\n",
        "        \n",
        "    def forward(self, x):\n",
        "        user_idx = x[:, 0]\n",
        "        item_idx = x[:, 1]\n",
        "        user_feature = self.user_emb(user_idx)\n",
        "        item_feature = self.item_emb(item_idx)\n",
        "        # ユーザー特徴量と商品特徴量をまとめて1つのベクトルにする\n",
        "        out = torch.cat([user_feature, item_feature], 1)\n",
        "        # まとめた特徴量ベクトルをMLPに入れる\n",
        "        out = self.mlp(out)\n",
        "        out = nn.functional.sigmoid(out) * 5\n",
        "        return out.squeeze()"
      ],
      "execution_count": 0,
      "outputs": []
    },
    {
      "metadata": {
        "id": "4WJhyJ2OQZCD",
        "colab_type": "text"
      },
      "cell_type": "markdown",
      "source": [
        "リスト6.9　区切られたジャンルをBoWに変換（<your_path>を変更している）"
      ]
    },
    {
      "metadata": {
        "id": "Tk-9SHjnEohZ",
        "colab_type": "code",
        "colab": {}
      },
      "cell_type": "code",
      "source": [
        "import csv\n",
        "from sklearn.feature_extraction.text import CountVectorizer\n",
        "\n",
        "# csv.DictReaderを使用してCSVファイルを読み込み\n",
        "# 必要な部分だけ抽出する\n",
        "with open(\"ml-20m/movies.csv\") as fp:\n",
        "    reader = csv.DictReader(fp)\n",
        "    def parse(d):\n",
        "        movieId = int(d[\"movieId\"])\n",
        "        genres = d[\"genres\"]\n",
        "        return movieId, genres\n",
        "    data = [parse(d) for d in reader]\n",
        "\n",
        "movieIds = [x[0] for x in data]\n",
        "genres = [x[1] for x in data]\n",
        "\n",
        "# データに合わせてCountVectorizerを訓練する\n",
        "cv = CountVectorizer(dtype=\"f4\").fit(genres)\n",
        "num_genres = len(cv.get_feature_names())\n",
        "\n",
        "# keyがmovieIdでvalueがBoWのTensorのdictを作る\n",
        "it = cv.transform(genres).toarray()\n",
        "it = (torch.tensor(g, dtype=torch.float32) for g in it)\n",
        "genre_dict = dict(zip(movieIds, it))"
      ],
      "execution_count": 0,
      "outputs": []
    },
    {
      "metadata": {
        "id": "sIrlUzHEQkkr",
        "colab_type": "text"
      },
      "cell_type": "markdown",
      "source": [
        "リスト6.10　カスタムDatasetの作成"
      ]
    },
    {
      "metadata": {
        "id": "e_WWCfLqF0AE",
        "colab_type": "code",
        "colab": {}
      },
      "cell_type": "code",
      "source": [
        "def first(xs):\n",
        "    it = iter(xs)\n",
        "    return next(it)\n",
        "\n",
        "class MovieLensDataset(Dataset):\n",
        "    def __init__(self, x, y, genres):\n",
        "        assert len(x) == len(y)\n",
        "        self.x = x\n",
        "        self.y = y\n",
        "        self.genres = genres\n",
        "        \n",
        "        # ジャンル辞書にないmovieIdの時のダミーデータ\n",
        "        self.null_genre = torch.zeros_like(\n",
        "            first(genres.values()))\n",
        "        \n",
        "    def __len__(self):\n",
        "        return len(self.x)\n",
        "\n",
        "    def __getitem__(self, idx):\n",
        "        x = self.x[idx]\n",
        "        y = self.y[idx]\n",
        "        # x = (userId, movieId)\n",
        "        movieId = x[1]\n",
        "        g = self.genres.get(movieId, self.null_genre)\n",
        "        return x, y, g"
      ],
      "execution_count": 0,
      "outputs": []
    },
    {
      "metadata": {
        "id": "DrseAYehQtvi",
        "colab_type": "text"
      },
      "cell_type": "markdown",
      "source": [
        "リスト6.11　DataLoaderの作成"
      ]
    },
    {
      "metadata": {
        "id": "V3B98cf3GNKl",
        "colab_type": "code",
        "colab": {}
      },
      "cell_type": "code",
      "source": [
        "train_dataset = MovieLensDataset(\n",
        "    torch.tensor(train_X, dtype=torch.int64),\n",
        "    torch.tensor(train_Y, dtype=torch.float32), \n",
        "    genre_dict)\n",
        "test_dataset = MovieLensDataset(\n",
        "    torch.tensor(test_X, dtype=torch.int64),\n",
        "    torch.tensor(test_Y, dtype=torch.float32),\n",
        "    genre_dict)\n",
        "train_loader = DataLoader(\n",
        "    train_dataset, batch_size=1024, shuffle=True, num_workers=4)\n",
        "test_loader = DataLoader(\n",
        "    test_dataset, batch_size=1024, num_workers=4)"
      ],
      "execution_count": 0,
      "outputs": []
    },
    {
      "metadata": {
        "id": "xedYDjBUQ4KC",
        "colab_type": "text"
      },
      "cell_type": "markdown",
      "source": [
        "リスト6.12　ネットワークモデルの作成"
      ]
    },
    {
      "metadata": {
        "id": "iNbQQF-YGnZN",
        "colab_type": "code",
        "colab": {}
      },
      "cell_type": "code",
      "source": [
        "class NeuralMatrixFactorization2(nn.Module):\n",
        "    def __init__(self, max_user, max_item, num_genres,\n",
        "                 user_k=10, item_k=10, hidden_dim=50):\n",
        "        super().__init__()\n",
        "        self.user_emb = nn.Embedding(max_user, user_k, 0)\n",
        "        self.item_emb = nn.Embedding(max_item, item_k, 0)\n",
        "        self.mlp = nn.Sequential(\n",
        "            # num_genres分だけ次元が増える\n",
        "            nn.Linear(user_k + item_k + num_genres, hidden_dim),\n",
        "            nn.ReLU(),\n",
        "            nn.BatchNorm1d(hidden_dim),\n",
        "            nn.Linear(hidden_dim, hidden_dim),\n",
        "            nn.ReLU(),\n",
        "            nn.BatchNorm1d(hidden_dim),\n",
        "            nn.Linear(hidden_dim, 1)\n",
        "        )\n",
        "        \n",
        "    def forward(self, x, g):\n",
        "        user_idx = x[:, 0]\n",
        "        item_idx = x[:, 1]\n",
        "        user_feature = self.user_emb(user_idx)\n",
        "        item_feature = self.item_emb(item_idx)\n",
        "        # ジャンルのBoWをcatで特徴ベクトルに結合する\n",
        "        out = torch.cat([user_feature, item_feature, g], 1)\n",
        "        out = self.mlp(out)\n",
        "        out = nn.functional.sigmoid(out) * 5\n",
        "        return out.squeeze()"
      ],
      "execution_count": 0,
      "outputs": []
    },
    {
      "metadata": {
        "id": "7PdklPUoQ_uT",
        "colab_type": "text"
      },
      "cell_type": "markdown",
      "source": [
        "リスト6.13　ヘルパー関数の修正"
      ]
    },
    {
      "metadata": {
        "id": "ffnoahQfHDe-",
        "colab_type": "code",
        "colab": {}
      },
      "cell_type": "code",
      "source": [
        "def eval_net(net, loader, score_fn=nn.functional.l1_loss, device=\"cpu\"):\n",
        "    ys = []\n",
        "    ypreds = []\n",
        "    # loaderはジャンルのBoWも返す\n",
        "    for x, y, g in loader:\n",
        "        x = x.to(device)\n",
        "        g = g.to(device)\n",
        "        ys.append(y)\n",
        "        # userId, movieId以外にジャンルの\n",
        "        # BoWもネットワーク関数に渡す\n",
        "        with torch.no_grad():\n",
        "        \typred = net(x, g).to(\"cpu\")\n",
        "        ypreds.append(ypred)\n",
        "    score = score_fn(torch.cat(ys).squeeze(), torch.cat(ypreds))\n",
        "    return score"
      ],
      "execution_count": 0,
      "outputs": []
    },
    {
      "metadata": {
        "id": "q8HiNlB3RKY7",
        "colab_type": "text"
      },
      "cell_type": "markdown",
      "source": [
        "リスト6.14　訓練部分の作成"
      ]
    },
    {
      "metadata": {
        "id": "ABo5kQmMHX_f",
        "colab_type": "code",
        "colab": {}
      },
      "cell_type": "code",
      "source": [
        "net = NeuralMatrixFactorization2(\n",
        "    max_user+1, max_item+1, num_genres)\n",
        "opt = optim.Adam(net.parameters(), lr=0.01)\n",
        "loss_f = nn.MSELoss()\n",
        "\n",
        "net.to(\"cuda:0\")\n",
        "for epoch in range(5):\n",
        "    loss_log = []\n",
        "    net.train()\n",
        "    for x, y, g in tqdm.tqdm(train_loader):\n",
        "        x = x.to(\"cuda:0\")\n",
        "        y = y.to(\"cuda:0\")\n",
        "        g = g.to(\"cuda:0\")\n",
        "        o = net(x, g)\n",
        "        loss = loss_f(o, y.view(-1))\n",
        "        net.zero_grad()\n",
        "        loss.backward()\n",
        "        opt.step()\n",
        "        loss_log.append(loss.item())\n",
        "    net.eval()\n",
        "    test_score = eval_net(net, test_loader, device=\"cuda:0\")\n",
        "    print(epoch, mean(loss_log), test_score.item(), flush=True)"
      ],
      "execution_count": 0,
      "outputs": []
    },
    {
      "metadata": {
        "id": "lYnIMS5YRXQb",
        "colab_type": "text"
      },
      "cell_type": "markdown",
      "source": [
        "リスト6.15　ユーザー100に対してそれぞれのジャンルを1つだけ含んだ映画のスコアを計算"
      ]
    },
    {
      "metadata": {
        "id": "Zm8xhfv1Ht4A",
        "colab_type": "code",
        "colab": {}
      },
      "cell_type": "code",
      "source": [
        "# 指定した位置だけ1で残りが0のTensorを返す補助関数\n",
        "def make_genre_vector(i, max_len):\n",
        "    g = torch.zeros(max_len)\n",
        "    g[i] = 1\n",
        "    return g\n",
        "\n",
        "query_genres = [make_genre_vector(i, num_genres)\n",
        "    for i in range(num_genres)]\n",
        "query_genres = torch.stack(query_genres, 1)\n",
        "\n",
        "# num_genres分だけuserId=100とmovieId=0のTensorを作って結合する\n",
        "query = torch.stack([\n",
        "    torch.empty(num_genres, dtype=torch.int64).fill_(100),\n",
        "    torch.empty(num_genres, dtype=torch.int64).fill_(0)\n",
        "], 1)\n",
        "\n",
        "# GPUに転送\n",
        "query_genres = query_genres.to(\"cuda:0\")\n",
        "query = query.to(\"cuda:0\")\n",
        "\n",
        "# スコアを計算\n",
        "net(query, query_genres)"
      ],
      "execution_count": 0,
      "outputs": []
    }
  ]
}