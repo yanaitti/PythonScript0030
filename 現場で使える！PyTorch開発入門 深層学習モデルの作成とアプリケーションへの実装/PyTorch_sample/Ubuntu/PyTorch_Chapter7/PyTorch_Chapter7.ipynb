{
  "nbformat": 4,
  "nbformat_minor": 0,
  "metadata": {
    "colab": {
      "name": "c07-app.ipynb",
      "version": "0.3.2",
      "provenance": [],
      "collapsed_sections": []
    },
    "kernelspec": {
      "display_name": "Python 3",
      "language": "python",
      "name": "python3"
    }
  },
  "cells": [
    {
      "metadata": {
        "id": "5mPxTNiJgoyd",
        "colab_type": "text"
      },
      "cell_type": "markdown",
      "source": [
        "Chapter7　アプリケーションへの組込み（7.4節以降）"
      ]
    },
    {
      "metadata": {
        "id": "udzwQTIegPY8",
        "colab_type": "code",
        "colab": {}
      },
      "cell_type": "code",
      "source": [
        "import torch\n",
        "torch.tensor([1,2,3]).to(\"cuda:0\")"
      ],
      "execution_count": 0,
      "outputs": []
    },
    {
      "metadata": {
        "id": "VQYbKgA7gPZA",
        "colab_type": "code",
        "colab": {}
      },
      "cell_type": "code",
      "source": [
        "import torch\n",
        "from torch import nn, optim\n",
        "from torch.utils.data import (Dataset,\n",
        "                            DataLoader,\n",
        "                            TensorDataset)\n",
        "import tqdm"
      ],
      "execution_count": 0,
      "outputs": []
    },
    {
      "metadata": {
        "id": "gN7BjUfugPY7",
        "colab_type": "text"
      },
      "cell_type": "markdown",
      "source": [
        "リスト7.12　学習済みモデルの読み込み"
      ]
    },
    {
      "metadata": {
        "id": "P4bUI2qxgPZE",
        "colab_type": "code",
        "colab": {}
      },
      "cell_type": "code",
      "source": [
        "from torchvision import models\n",
        "\n",
        "def create_network():\n",
        "    \n",
        "    # resnet18ベースの2クラス識別モデル\n",
        "    net = models.resnet18()\n",
        "    fc_input_dim = net.fc.in_features\n",
        "    net.fc = nn.Linear(fc_input_dim, 2)\n",
        "    return net\n",
        "\n",
        "# モデルの生成\n",
        "net = create_network()\n",
        "\n",
        "# パラメータの読み込みとモデルへセット\n",
        "prm = torch.load(\"taco_burrito.prm\", map_location=\"cpu\")\n",
        "net.load_state_dict(prm)\n",
        "\n",
        "# 評価モードに設定\n",
        "net.eval()"
      ],
      "execution_count": 0,
      "outputs": []
    },
    {
      "metadata": {
        "id": "Zrb5XZtagPZH",
        "colab_type": "text"
      },
      "cell_type": "markdown",
      "source": [
        "リスト7.13　taco_burrito.onnxの出力"
      ]
    },
    {
      "metadata": {
        "id": "W-wfincogPZI",
        "colab_type": "code",
        "colab": {}
      },
      "cell_type": "code",
      "source": [
        "import torch.onnx\n",
        "dummy_data = torch.empty(1, 3, 224, 224, dtype=torch.float32)\n",
        "torch.onnx.export(net, dummy_data, \"taco_burrito.onnx\")"
      ],
      "execution_count": 0,
      "outputs": []
    },
    {
      "metadata": {
        "id": "Kvk5UUAagPZK",
        "colab_type": "text"
      },
      "cell_type": "markdown",
      "source": [
        "リスト7.14　ONNXからインポート"
      ]
    },
    {
      "metadata": {
        "id": "rLrCrOGAgPZL",
        "colab_type": "code",
        "colab": {}
      },
      "cell_type": "code",
      "source": [
        "import onnx\n",
        "from caffe2.python.onnx import backend as caffe2_backend\n",
        "\n",
        "# ONNXモデルを読み込む\n",
        "onnx_model = onnx.load(\"taco_burrito.onnx\")\n",
        "\n",
        "# ONNXモデルをCaffe2モデルに変換\n",
        "backend = caffe2_backend.prepare(onnx_model)"
      ],
      "execution_count": 0,
      "outputs": []
    },
    {
      "metadata": {
        "id": "K_X0DRlsgPZN",
        "colab_type": "text"
      },
      "cell_type": "markdown",
      "source": [
        "リスト7.15　PyTorchモデルとONNX経由のCaffe2モデルの比較（<your_path>は任意のディレクトリを指定）"
      ]
    },
    {
      "metadata": {
        "id": "4gJUuOy1gPZO",
        "colab_type": "code",
        "colab": {}
      },
      "cell_type": "code",
      "source": [
        "from PIL import Image\n",
        "from torchvision import transforms\n",
        "\n",
        "# 画像をクロップしてTensorに変換する関数\n",
        "transform = transforms.Compose([\n",
        "    transforms.CenterCrop(224),\n",
        "    transforms.ToTensor()\n",
        "])\n",
        "\n",
        "# 画像の読み込み\n",
        "img = Image.open(\"<your_path>/test/burrito/360.jpg\")\n",
        "\n",
        "# Tensorに変換し、バッチの次元を足す\n",
        "img_tensor = transform(img).unsqueeze(0)\n",
        "\n",
        "# ndarrayに変換\n",
        "img_ndarray = img_tensor.numpy()\n",
        "\n",
        "# PyTorchで実行\n",
        "net(img_tensor)"
      ],
      "execution_count": 0,
      "outputs": []
    },
    {
      "metadata": {
        "id": "umEMLdh-gPZQ",
        "colab_type": "code",
        "colab": {}
      },
      "cell_type": "code",
      "source": [
        "# ONNX/Caffe2で実行\n",
        "output = backend.run(img_ndarray)\n",
        "output[0]"
      ],
      "execution_count": 0,
      "outputs": []
    },
    {
      "metadata": {
        "id": "iSse4zZYgPZT",
        "colab_type": "text"
      },
      "cell_type": "markdown",
      "source": [
        "リスト7.16　ONNXに依存せずCaffe2のモデルに変換する"
      ]
    },
    {
      "metadata": {
        "id": "9u7gXhykgPZU",
        "colab_type": "code",
        "colab": {}
      },
      "cell_type": "code",
      "source": [
        "from caffe2.python.onnx.backend import Caffe2Backend\n",
        "\n",
        "init_net, predict_net = \\\n",
        "    Caffe2Backend.onnx_graph_to_caffe2_net(onnx_model)"
      ],
      "execution_count": 0,
      "outputs": []
    },
    {
      "metadata": {
        "id": "zyZnVfRUhzmO",
        "colab_type": "text"
      },
      "cell_type": "markdown",
      "source": [
        "リスト7.17　生成したCaffe2のネットワーク定義とパラメータの保存"
      ]
    },
    {
      "metadata": {
        "id": "V2rcRBmrgPZW",
        "colab_type": "code",
        "colab": {}
      },
      "cell_type": "code",
      "source": [
        "with open('init_net.pb', \"wb\") as fopen:\n",
        "    fopen.write(init_net.SerializeToString())\n",
        "\n",
        "with open('predict_net.pb', \"wb\") as fopen:\n",
        "    fopen.write(predict_net.SerializeToString())"
      ],
      "execution_count": 0,
      "outputs": []
    }
  ]
}